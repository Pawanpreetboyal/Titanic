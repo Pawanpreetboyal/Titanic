{
 "cells": [
  {
   "cell_type": "markdown",
   "id": "49a40a8c",
   "metadata": {},
   "source": [
    "# Titanic Survival Data Analysis\n",
    "\n",
    "## **Introduction**\n",
    "This analysis explores survival patterns in the Titanic dataset. We aim to understand how different factors such as **gender, passenger class, age, and family size** influenced survival rates. The following visualizations will help uncover key insights.\n",
    "\n",
    "---\n"
   ]
  },
  {
   "cell_type": "markdown",
   "id": "0fe8dc99",
   "metadata": {},
   "source": [
    "## **Step 1: Load the Data**\n",
    "We first import the dataset and display the first five rows."
   ]
  },
  {
   "cell_type": "code",
   "execution_count": 27,
   "id": "634dc917",
   "metadata": {
    "scrolled": true
   },
   "outputs": [
    {
     "data": {
      "text/html": [
       "<div>\n",
       "<style scoped>\n",
       "    .dataframe tbody tr th:only-of-type {\n",
       "        vertical-align: middle;\n",
       "    }\n",
       "\n",
       "    .dataframe tbody tr th {\n",
       "        vertical-align: top;\n",
       "    }\n",
       "\n",
       "    .dataframe thead th {\n",
       "        text-align: right;\n",
       "    }\n",
       "</style>\n",
       "<table border=\"1\" class=\"dataframe\">\n",
       "  <thead>\n",
       "    <tr style=\"text-align: right;\">\n",
       "      <th></th>\n",
       "      <th>PassengerId</th>\n",
       "      <th>Survived</th>\n",
       "      <th>Pclass</th>\n",
       "      <th>Name</th>\n",
       "      <th>Sex</th>\n",
       "      <th>Age</th>\n",
       "      <th>SibSp</th>\n",
       "      <th>Parch</th>\n",
       "      <th>Ticket</th>\n",
       "      <th>Fare</th>\n",
       "      <th>Cabin</th>\n",
       "      <th>Embarked</th>\n",
       "    </tr>\n",
       "  </thead>\n",
       "  <tbody>\n",
       "    <tr>\n",
       "      <th>0</th>\n",
       "      <td>892</td>\n",
       "      <td>0</td>\n",
       "      <td>3</td>\n",
       "      <td>Kelly, Mr. James</td>\n",
       "      <td>male</td>\n",
       "      <td>34.5</td>\n",
       "      <td>0</td>\n",
       "      <td>0</td>\n",
       "      <td>330911</td>\n",
       "      <td>7.8292</td>\n",
       "      <td>NaN</td>\n",
       "      <td>Q</td>\n",
       "    </tr>\n",
       "    <tr>\n",
       "      <th>1</th>\n",
       "      <td>893</td>\n",
       "      <td>1</td>\n",
       "      <td>3</td>\n",
       "      <td>Wilkes, Mrs. James (Ellen Needs)</td>\n",
       "      <td>female</td>\n",
       "      <td>47.0</td>\n",
       "      <td>1</td>\n",
       "      <td>0</td>\n",
       "      <td>363272</td>\n",
       "      <td>7.0000</td>\n",
       "      <td>NaN</td>\n",
       "      <td>S</td>\n",
       "    </tr>\n",
       "    <tr>\n",
       "      <th>2</th>\n",
       "      <td>894</td>\n",
       "      <td>0</td>\n",
       "      <td>2</td>\n",
       "      <td>Myles, Mr. Thomas Francis</td>\n",
       "      <td>male</td>\n",
       "      <td>62.0</td>\n",
       "      <td>0</td>\n",
       "      <td>0</td>\n",
       "      <td>240276</td>\n",
       "      <td>9.6875</td>\n",
       "      <td>NaN</td>\n",
       "      <td>Q</td>\n",
       "    </tr>\n",
       "    <tr>\n",
       "      <th>3</th>\n",
       "      <td>895</td>\n",
       "      <td>0</td>\n",
       "      <td>3</td>\n",
       "      <td>Wirz, Mr. Albert</td>\n",
       "      <td>male</td>\n",
       "      <td>27.0</td>\n",
       "      <td>0</td>\n",
       "      <td>0</td>\n",
       "      <td>315154</td>\n",
       "      <td>8.6625</td>\n",
       "      <td>NaN</td>\n",
       "      <td>S</td>\n",
       "    </tr>\n",
       "    <tr>\n",
       "      <th>4</th>\n",
       "      <td>896</td>\n",
       "      <td>1</td>\n",
       "      <td>3</td>\n",
       "      <td>Hirvonen, Mrs. Alexander (Helga E Lindqvist)</td>\n",
       "      <td>female</td>\n",
       "      <td>22.0</td>\n",
       "      <td>1</td>\n",
       "      <td>1</td>\n",
       "      <td>3101298</td>\n",
       "      <td>12.2875</td>\n",
       "      <td>NaN</td>\n",
       "      <td>S</td>\n",
       "    </tr>\n",
       "  </tbody>\n",
       "</table>\n",
       "</div>"
      ],
      "text/plain": [
       "   PassengerId  Survived  Pclass  \\\n",
       "0          892         0       3   \n",
       "1          893         1       3   \n",
       "2          894         0       2   \n",
       "3          895         0       3   \n",
       "4          896         1       3   \n",
       "\n",
       "                                           Name     Sex   Age  SibSp  Parch  \\\n",
       "0                              Kelly, Mr. James    male  34.5      0      0   \n",
       "1              Wilkes, Mrs. James (Ellen Needs)  female  47.0      1      0   \n",
       "2                     Myles, Mr. Thomas Francis    male  62.0      0      0   \n",
       "3                              Wirz, Mr. Albert    male  27.0      0      0   \n",
       "4  Hirvonen, Mrs. Alexander (Helga E Lindqvist)  female  22.0      1      1   \n",
       "\n",
       "    Ticket     Fare Cabin Embarked  \n",
       "0   330911   7.8292   NaN        Q  \n",
       "1   363272   7.0000   NaN        S  \n",
       "2   240276   9.6875   NaN        Q  \n",
       "3   315154   8.6625   NaN        S  \n",
       "4  3101298  12.2875   NaN        S  "
      ]
     },
     "metadata": {},
     "output_type": "display_data"
    }
   ],
   "source": [
    "import pandas as pd\n",
    "\n",
    "# Load the Titanic dataset\n",
    "df = pd.read_csv(r\"C:\\Users\\Hp\\Downloads\\titanic.csv\")\n",
    "\n",
    "# Display first few rows\n",
    "from IPython.display import display\n",
    "display(df.head())\n"
   ]
  },
  {
   "cell_type": "markdown",
   "id": "186d9511",
   "metadata": {},
   "source": [
    "## **Step 2: Understanding Data Structure**\n",
    "- There are 418 passengers in this dataset.\n",
    "- The **\"Age\"** and **\"Cabin\"** columns have missing values.\n",
    "- The **\"Survived\"** column (0 = No, 1 = Yes) is our target variable.\n"
   ]
  },
  {
   "cell_type": "code",
   "execution_count": 28,
   "id": "2fb8c90b",
   "metadata": {},
   "outputs": [
    {
     "data": {
      "text/plain": [
       "(418, 12)"
      ]
     },
     "execution_count": 28,
     "metadata": {},
     "output_type": "execute_result"
    }
   ],
   "source": [
    "df.shape  # This gives (number_of_rows, number_of_columns)\n"
   ]
  },
  {
   "cell_type": "code",
   "execution_count": 3,
   "id": "4f7c08cf",
   "metadata": {
    "scrolled": true
   },
   "outputs": [
    {
     "name": "stdout",
     "output_type": "stream",
     "text": [
      "<class 'pandas.core.frame.DataFrame'>\n",
      "RangeIndex: 418 entries, 0 to 417\n",
      "Data columns (total 12 columns):\n",
      " #   Column       Non-Null Count  Dtype  \n",
      "---  ------       --------------  -----  \n",
      " 0   PassengerId  418 non-null    int64  \n",
      " 1   Survived     418 non-null    int64  \n",
      " 2   Pclass       418 non-null    int64  \n",
      " 3   Name         418 non-null    object \n",
      " 4   Sex          418 non-null    object \n",
      " 5   Age          332 non-null    float64\n",
      " 6   SibSp        418 non-null    int64  \n",
      " 7   Parch        418 non-null    int64  \n",
      " 8   Ticket       418 non-null    object \n",
      " 9   Fare         417 non-null    float64\n",
      " 10  Cabin        91 non-null     object \n",
      " 11  Embarked     418 non-null    object \n",
      "dtypes: float64(2), int64(5), object(5)\n",
      "memory usage: 39.3+ KB\n"
     ]
    }
   ],
   "source": [
    "# Check dataset structure\n",
    "df.info()\n"
   ]
  },
  {
   "cell_type": "markdown",
   "id": "e0ce87e0",
   "metadata": {},
   "source": [
    "## **Step 3: Handling Missing Values**\n",
    "- **Age** has missing values, so we will fill them with the median age.\n",
    "- **Cabin** has many missing values, so we will drop it.\n"
   ]
  },
  {
   "cell_type": "code",
   "execution_count": 29,
   "id": "d22806a8",
   "metadata": {},
   "outputs": [
    {
     "data": {
      "text/plain": [
       "PassengerId      0\n",
       "Survived         0\n",
       "Pclass           0\n",
       "Name             0\n",
       "Sex              0\n",
       "Age             86\n",
       "SibSp            0\n",
       "Parch            0\n",
       "Ticket           0\n",
       "Fare             1\n",
       "Cabin          327\n",
       "Embarked         0\n",
       "dtype: int64"
      ]
     },
     "execution_count": 29,
     "metadata": {},
     "output_type": "execute_result"
    }
   ],
   "source": [
    "# Count missing values in each column\n",
    "df.isnull().sum()"
   ]
  },
  {
   "cell_type": "markdown",
   "id": "3599ff40",
   "metadata": {},
   "source": [
    "## **Step 4: Data Summary**\n",
    "This table provides an overview of the numerical columns:\n",
    "\n",
    "- The **average passenger age** is approximately **30.27 years**.\n",
    "- The **highest fare paid** was **$512.33**.\n",
    "- The **survival rate** is approximately **36.37%** (since the mean of \"Survived\" is 0.363636, meaning about 36% of passengers survived).\n",
    "\n"
   ]
  },
  {
   "cell_type": "code",
   "execution_count": 31,
   "id": "b3bb22ad",
   "metadata": {
    "scrolled": true
   },
   "outputs": [
    {
     "data": {
      "text/html": [
       "<div>\n",
       "<style scoped>\n",
       "    .dataframe tbody tr th:only-of-type {\n",
       "        vertical-align: middle;\n",
       "    }\n",
       "\n",
       "    .dataframe tbody tr th {\n",
       "        vertical-align: top;\n",
       "    }\n",
       "\n",
       "    .dataframe thead th {\n",
       "        text-align: right;\n",
       "    }\n",
       "</style>\n",
       "<table border=\"1\" class=\"dataframe\">\n",
       "  <thead>\n",
       "    <tr style=\"text-align: right;\">\n",
       "      <th></th>\n",
       "      <th>PassengerId</th>\n",
       "      <th>Survived</th>\n",
       "      <th>Pclass</th>\n",
       "      <th>Age</th>\n",
       "      <th>SibSp</th>\n",
       "      <th>Parch</th>\n",
       "      <th>Fare</th>\n",
       "    </tr>\n",
       "  </thead>\n",
       "  <tbody>\n",
       "    <tr>\n",
       "      <th>count</th>\n",
       "      <td>418.000000</td>\n",
       "      <td>418.000000</td>\n",
       "      <td>418.000000</td>\n",
       "      <td>332.000000</td>\n",
       "      <td>418.000000</td>\n",
       "      <td>418.000000</td>\n",
       "      <td>417.000000</td>\n",
       "    </tr>\n",
       "    <tr>\n",
       "      <th>mean</th>\n",
       "      <td>1100.500000</td>\n",
       "      <td>0.363636</td>\n",
       "      <td>2.265550</td>\n",
       "      <td>30.272590</td>\n",
       "      <td>0.447368</td>\n",
       "      <td>0.392344</td>\n",
       "      <td>35.627188</td>\n",
       "    </tr>\n",
       "    <tr>\n",
       "      <th>std</th>\n",
       "      <td>120.810458</td>\n",
       "      <td>0.481622</td>\n",
       "      <td>0.841838</td>\n",
       "      <td>14.181209</td>\n",
       "      <td>0.896760</td>\n",
       "      <td>0.981429</td>\n",
       "      <td>55.907576</td>\n",
       "    </tr>\n",
       "    <tr>\n",
       "      <th>min</th>\n",
       "      <td>892.000000</td>\n",
       "      <td>0.000000</td>\n",
       "      <td>1.000000</td>\n",
       "      <td>0.170000</td>\n",
       "      <td>0.000000</td>\n",
       "      <td>0.000000</td>\n",
       "      <td>0.000000</td>\n",
       "    </tr>\n",
       "    <tr>\n",
       "      <th>25%</th>\n",
       "      <td>996.250000</td>\n",
       "      <td>0.000000</td>\n",
       "      <td>1.000000</td>\n",
       "      <td>21.000000</td>\n",
       "      <td>0.000000</td>\n",
       "      <td>0.000000</td>\n",
       "      <td>7.895800</td>\n",
       "    </tr>\n",
       "    <tr>\n",
       "      <th>50%</th>\n",
       "      <td>1100.500000</td>\n",
       "      <td>0.000000</td>\n",
       "      <td>3.000000</td>\n",
       "      <td>27.000000</td>\n",
       "      <td>0.000000</td>\n",
       "      <td>0.000000</td>\n",
       "      <td>14.454200</td>\n",
       "    </tr>\n",
       "    <tr>\n",
       "      <th>75%</th>\n",
       "      <td>1204.750000</td>\n",
       "      <td>1.000000</td>\n",
       "      <td>3.000000</td>\n",
       "      <td>39.000000</td>\n",
       "      <td>1.000000</td>\n",
       "      <td>0.000000</td>\n",
       "      <td>31.500000</td>\n",
       "    </tr>\n",
       "    <tr>\n",
       "      <th>max</th>\n",
       "      <td>1309.000000</td>\n",
       "      <td>1.000000</td>\n",
       "      <td>3.000000</td>\n",
       "      <td>76.000000</td>\n",
       "      <td>8.000000</td>\n",
       "      <td>9.000000</td>\n",
       "      <td>512.329200</td>\n",
       "    </tr>\n",
       "  </tbody>\n",
       "</table>\n",
       "</div>"
      ],
      "text/plain": [
       "       PassengerId    Survived      Pclass         Age       SibSp  \\\n",
       "count   418.000000  418.000000  418.000000  332.000000  418.000000   \n",
       "mean   1100.500000    0.363636    2.265550   30.272590    0.447368   \n",
       "std     120.810458    0.481622    0.841838   14.181209    0.896760   \n",
       "min     892.000000    0.000000    1.000000    0.170000    0.000000   \n",
       "25%     996.250000    0.000000    1.000000   21.000000    0.000000   \n",
       "50%    1100.500000    0.000000    3.000000   27.000000    0.000000   \n",
       "75%    1204.750000    1.000000    3.000000   39.000000    1.000000   \n",
       "max    1309.000000    1.000000    3.000000   76.000000    8.000000   \n",
       "\n",
       "            Parch        Fare  \n",
       "count  418.000000  417.000000  \n",
       "mean     0.392344   35.627188  \n",
       "std      0.981429   55.907576  \n",
       "min      0.000000    0.000000  \n",
       "25%      0.000000    7.895800  \n",
       "50%      0.000000   14.454200  \n",
       "75%      0.000000   31.500000  \n",
       "max      9.000000  512.329200  "
      ]
     },
     "execution_count": 31,
     "metadata": {},
     "output_type": "execute_result"
    }
   ],
   "source": [
    "# Summary statistics\n",
    "df.describe()"
   ]
  },
  {
   "cell_type": "markdown",
   "id": "ba85a271",
   "metadata": {},
   "source": [
    "# Titanic Data Analysis:\n",
    "\n",
    "\n",
    "## **Understanding Survival Patterns Through Visualizations**\n",
    "In this section, we explore **various factors that influenced survival rates** on the Titanic using data visualizations. The following charts will help us analyze:\n",
    "- **Overall survival distribution**\n",
    "- **Impact of passenger class on survival**\n",
    "- **Effect of age on survival chances**\n",
    "- **How family size influenced survival rates**\n",
    "\n",
    "Each visualization is accompanied by a brief explanation of its key insights.\n",
    "\n",
    "---\n",
    "\n",
    "\n"
   ]
  },
  {
   "cell_type": "code",
   "execution_count": 46,
   "id": "a7d2e46b",
   "metadata": {},
   "outputs": [
    {
     "data": {
      "image/png": "[encoded data removed]",
      "text/plain": [
       "<Figure size 432x288 with 1 Axes>"
      ]
     },
     "metadata": {
      "needs_background": "light"
     },
     "output_type": "display_data"
    }
   ],
   "source": [
    "import seaborn as sns\n",
    "import matplotlib.pyplot as plt\n",
    "\n",
    "# Count of survivors with labeled bars\n",
    "ax = sns.countplot(x=\"Survived\", data=df, palette=\"coolwarm\")\n",
    "plt.title(\"Survival Count\")\n",
    "\n",
    "# Remove x-axis label\n",
    "plt.xlabel(\"\")  # This removes the default \"Survived\" label under the x-axis\n",
    "\n",
    "plt.ylabel(\"Count\")\n",
    "plt.xticks([0, 1], [\"Did Not Survive\", \"Survived\"])  # Custom labels\n",
    "\n",
    "# Add labels on bars\n",
    "for p in ax.patches:\n",
    "    ax.annotate(f\"{int(p.get_height())}\",  \n",
    "                (p.get_x() + p.get_width() / 2, p.get_height() + 5),  # Center and space text\n",
    "                ha=\"center\", fontsize=12, fontweight=\"bold\", color=\"black\")\n",
    "\n",
    "plt.ylim(0, max(df[\"Survived\"].value_counts()) + 30)  # Extend y-axis for spacing\n",
    "plt.show()\n"
   ]
  },
  {
   "cell_type": "markdown",
   "id": "44dd308b",
   "metadata": {},
   "source": [
    "## **Survival Count**\n",
    "- **266 passengers did not survive**, while **152 passengers survived**.\n",
    "- The survival rate is **approximately 36%**, meaning most passengers did not make it.\n",
    "- This highlights the **severity of the Titanic disaster** and the **limited number of lifeboats**.\n",
    "- The graph makes it clear that **survival was not evenly distributed**, and many people lost their lives.\n",
    "\n"
   ]
  },
  {
   "cell_type": "code",
   "execution_count": 40,
   "id": "6e473acc",
   "metadata": {},
   "outputs": [
    {
     "data": {
      "image/png": "[encoded data removed]",
      "text/plain": [
       "<Figure size 432x288 with 1 Axes>"
      ]
     },
     "metadata": {
      "needs_background": "light"
     },
     "output_type": "display_data"
    }
   ],
   "source": [
    "# Survival rate by passenger class with labeled bars\n",
    "ax = sns.barplot(x=\"Pclass\", y=\"Survived\", data=df, palette=\"magma\", ci=None)\n",
    "plt.title(\"Survival Rate by Passenger Class\")\n",
    "plt.xlabel(\"Passenger Class (1 = First, 2 = Second, 3 = Third)\")\n",
    "plt.ylabel(\"Survival Probability\")\n",
    "\n",
    "# Add labels on bars\n",
    "for p in ax.patches:\n",
    "    ax.annotate(f\"{p.get_height():.2f}\", (p.get_x() + 0.3, p.get_height() + 0.02))\n",
    "\n",
    "plt.show()\n"
   ]
  },
  {
   "cell_type": "markdown",
   "id": "c7e1ee6a",
   "metadata": {},
   "source": [
    "## **Survival Rate by Passenger Class**\n",
    "- **First-class passengers had the highest survival probability (47%).**\n",
    "- **Second-class passengers had a survival probability of 32%.**\n",
    "- **Third-class passengers had a survival probability of 33%, only slightly higher than second-class.**\n",
    "- This confirms that **wealth and social status played a role in survival chances** on the Titanic.\n",
    "- **First-class passengers had better access to lifeboats**, increasing their chances of survival.\n"
   ]
  },
  {
   "cell_type": "code",
   "execution_count": 43,
   "id": "3d9203d8",
   "metadata": {},
   "outputs": [
    {
     "data": {
      "image/png": "[encoded data removed]",
      "text/plain": [
       "<Figure size 576x432 with 1 Axes>"
      ]
     },
     "metadata": {
      "needs_background": "light"
     },
     "output_type": "display_data"
    }
   ],
   "source": [
    "plt.figure(figsize=(8, 6)) \n",
    "\n",
    "# Plot non-survivors\n",
    "sns.histplot(df[df[\"Survived\"] == 0][\"Age\"], bins=20, kde=True, color=\"red\", label=\"Did Not Survive\", alpha=0.6)\n",
    "# Plot survivors \n",
    "sns.histplot(df[df[\"Survived\"] == 1][\"Age\"], bins=20, kde=True, color=\"green\", label=\"Survived\", alpha=0.8)\n",
    "\n",
    "\n",
    "plt.legend(facecolor=\"white\", loc=\"upper right\")  \n",
    "plt.title(\"Age Distribution of Survivors vs. Non-Survivors\")\n",
    "plt.xlabel(\"Age\")\n",
    "plt.ylabel(\"Count\")\n",
    "plt.show()\n",
    "\n",
    "\n"
   ]
  },
  {
   "cell_type": "markdown",
   "id": "b9617749",
   "metadata": {},
   "source": [
    "## **Age Distribution of Survivors vs. Non-Survivors**\n",
    "- **Children (0-10 years) had a higher survival rate**, likely due to the **\"Women and children first\"** policy.\n",
    "- **Young adults (20-40 years) had the highest number of deaths**, as seen from the high concentration of red bars.\n",
    "- **Elderly passengers (60+) had low survival rates**, indicating that older individuals were less likely to escape.\n",
    "- The overall trend shows that **survival chances varied significantly by age**, reinforcing the idea that **younger passengers were prioritized for rescue**.\n"
   ]
  },
  {
   "cell_type": "code",
   "execution_count": 47,
   "id": "a51a4490",
   "metadata": {},
   "outputs": [
    {
     "data": {
      "image/png": "[encoded data removed]",
      "text/plain": [
       "<Figure size 432x288 with 1 Axes>"
      ]
     },
     "metadata": {
      "needs_background": "light"
     },
     "output_type": "display_data"
    }
   ],
   "source": [
    "# Create FamilySize column\n",
    "df[\"FamilySize\"] = df[\"SibSp\"] + df[\"Parch\"] + 1  # +1 includes the passenger themselves\n",
    "\n",
    "# Group large family sizes into categories\n",
    "df[\"FamilyGroup\"] = df[\"FamilySize\"].apply(lambda x: \"1\" if x == 1 else \n",
    "                                                    \"2-4\" if 2 <= x <= 4 else \n",
    "                                                    \"5+\")\n",
    "\n",
    "# Plot the updated family survival rate\n",
    "ax = sns.barplot(x=\"FamilyGroup\", y=\"Survived\", data=df, palette=\"coolwarm\", ci=None)\n",
    "\n",
    "plt.title(\"Survival Rate by Family Size Group\")\n",
    "plt.xlabel(\"Family Size Group\")\n",
    "plt.ylabel(\"Survival Probability\")\n",
    "plt.ylim(0, 1)  # Keep survival rates between 0-1 for better readability\n",
    "\n",
    "# Add labels on bars\n",
    "for p in ax.patches:\n",
    "    ax.annotate(f\"{p.get_height():.2f}\", (p.get_x() + 0.3, p.get_height() + 0.02))\n",
    "\n",
    "plt.show()\n"
   ]
  },
  {
   "cell_type": "markdown",
   "id": "14c3f4f6",
   "metadata": {},
   "source": [
    "## **Survival Rate by Family Size**\n",
    "- **Small families (2-4 members) had the highest survival rate (~52%).**  \n",
    "- **Single travelers had a lower survival rate (~27%).**  \n",
    "- **Large families (5+ members) had the lowest survival rate (~40%).**  \n",
    "- Having **some family helped**, but **larger families struggled to evacuate together**, reducing their chances of survival.  \n",
    "- This trend suggests that **being alone was risky, but too many family members also reduced survival chances** due to logistical challenges.\n",
    "\n"
   ]
  },
  {
   "cell_type": "markdown",
   "id": "94a8ba49",
   "metadata": {},
   "source": [
    "# **Final Summary & Conclusion**\n",
    "- **Most passengers did not survive** (~36% survival rate).\n",
    "- **Women had a much higher survival rate than men** (supporting \"Women and children first\").\n",
    "- **First-class passengers had the best survival rate**, while third-class had the worst.\n",
    "- **Children had a higher chance of survival**, while adults (especially men) had lower survival rates.\n",
    "- **Small families had better survival chances than solo travelers or large families.**\n",
    "\n",
    "These insights confirm that **social status, gender, and family size played a key role in survival.**\n"
   ]
  },
  {
   "cell_type": "code",
   "execution_count": null,
   "id": "ed0970a7",
   "metadata": {},
   "outputs": [],
   "source": []
  }
 ],
 "metadata": {
  "kernelspec": {
   "display_name": "Python 3 (ipykernel)",
   "language": "python",
   "name": "python3"
  },
  "language_info": {
   "codemirror_mode": {
    "name": "ipython",
    "version": 3
   },
   "file_extension": ".py",
   "mimetype": "text/x-python",
   "name": "python",
   "nbconvert_exporter": "python",
   "pygments_lexer": "ipython3",
   "version": "3.9.12"
  }
 },
 "nbformat": 4,
 "nbformat_minor": 5
}
